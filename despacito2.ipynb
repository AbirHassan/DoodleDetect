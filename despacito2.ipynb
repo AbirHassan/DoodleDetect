{
 "cells": [
  {
   "cell_type": "code",
   "execution_count": 1,
   "metadata": {},
   "outputs": [
    {
     "name": "stderr",
     "output_type": "stream",
     "text": [
      "Using TensorFlow backend.\n"
     ]
    }
   ],
   "source": [
    "from PIL import Image, ImageDraw\n",
    "import numpy as np\n",
    "import pandas as pd\n",
    "import tensorflow as tf\n",
    "import skimage.io\n",
    "import skimage.transform\n",
    "import matplotlib.pyplot as plt\n",
    "import keras\n",
    "import ast\n",
    "from glob import glob\n",
    "from dask import bag\n",
    "import os\n",
    "from keras import Model, Sequential, optimizers\n",
    "from sklearn.model_selection import train_test_split\n",
    "from keras.layers import Conv2D, MaxPooling2D, Dense, Dropout, Flatten, BatchNormalization\n",
    "from tensorflow.keras.callbacks import ModelCheckpoint, ReduceLROnPlateau, EarlyStopping\n",
    "from tensorflow.keras.metrics import top_k_categorical_accuracy\n",
    "from io import BytesIO\n",
    "%matplotlib inline"
   ]
  },
  {
   "cell_type": "code",
   "execution_count": 2,
   "metadata": {},
   "outputs": [
    {
     "data": {
      "text/html": [
       "<div>\n",
       "<style scoped>\n",
       "    .dataframe tbody tr th:only-of-type {\n",
       "        vertical-align: middle;\n",
       "    }\n",
       "\n",
       "    .dataframe tbody tr th {\n",
       "        vertical-align: top;\n",
       "    }\n",
       "\n",
       "    .dataframe thead th {\n",
       "        text-align: right;\n",
       "    }\n",
       "</style>\n",
       "<table border=\"1\" class=\"dataframe\">\n",
       "  <thead>\n",
       "    <tr style=\"text-align: right;\">\n",
       "      <th></th>\n",
       "      <th>countrycode</th>\n",
       "      <th>drawing</th>\n",
       "      <th>key_id</th>\n",
       "      <th>recognized</th>\n",
       "      <th>timestamp</th>\n",
       "      <th>word</th>\n",
       "    </tr>\n",
       "  </thead>\n",
       "  <tbody>\n",
       "    <tr>\n",
       "      <th>0</th>\n",
       "      <td>TW</td>\n",
       "      <td>[[[97, 79, 44, 30, 23, 21, 25, 34, 53, 78, 109...</td>\n",
       "      <td>4952882308710400</td>\n",
       "      <td>True</td>\n",
       "      <td>2017-01-29 13:23:51.786560</td>\n",
       "      <td>mouse</td>\n",
       "    </tr>\n",
       "    <tr>\n",
       "      <th>1</th>\n",
       "      <td>BR</td>\n",
       "      <td>[[[16, 4, 0, 15, 30, 56, 63, 103, 153, 199, 21...</td>\n",
       "      <td>5464784088596480</td>\n",
       "      <td>True</td>\n",
       "      <td>2017-03-06 19:17:22.518130</td>\n",
       "      <td>mouse</td>\n",
       "    </tr>\n",
       "    <tr>\n",
       "      <th>2</th>\n",
       "      <td>BG</td>\n",
       "      <td>[[[57, 97, 128, 151, 159], [0, 43, 86, 136, 17...</td>\n",
       "      <td>5490708884488192</td>\n",
       "      <td>True</td>\n",
       "      <td>2017-01-18 11:51:51.193520</td>\n",
       "      <td>knee</td>\n",
       "    </tr>\n",
       "    <tr>\n",
       "      <th>3</th>\n",
       "      <td>CA</td>\n",
       "      <td>[[[28, 7, 1, 2, 15], [1, 40, 66, 95, 127]], [[...</td>\n",
       "      <td>5987975680753664</td>\n",
       "      <td>True</td>\n",
       "      <td>2017-03-26 17:46:08.742390</td>\n",
       "      <td>knee</td>\n",
       "    </tr>\n",
       "    <tr>\n",
       "      <th>4</th>\n",
       "      <td>CZ</td>\n",
       "      <td>[[[67, 69, 74, 94, 105, 116, 119, 115, 120, 13...</td>\n",
       "      <td>4599994839465984</td>\n",
       "      <td>True</td>\n",
       "      <td>2017-03-05 10:52:22.314850</td>\n",
       "      <td>octopus</td>\n",
       "    </tr>\n",
       "    <tr>\n",
       "      <th>5</th>\n",
       "      <td>CH</td>\n",
       "      <td>[[[99, 84, 80], [3, 25, 56]], [[93, 103, 116, ...</td>\n",
       "      <td>6746256573464576</td>\n",
       "      <td>True</td>\n",
       "      <td>2017-01-23 21:23:00.117470</td>\n",
       "      <td>octopus</td>\n",
       "    </tr>\n",
       "    <tr>\n",
       "      <th>6</th>\n",
       "      <td>CH</td>\n",
       "      <td>[[[59, 44, 28, 17, 8, 0, 0, 13, 32, 49, 85, 11...</td>\n",
       "      <td>5152530285723648</td>\n",
       "      <td>True</td>\n",
       "      <td>2017-03-19 15:52:39.229000</td>\n",
       "      <td>face</td>\n",
       "    </tr>\n",
       "    <tr>\n",
       "      <th>7</th>\n",
       "      <td>US</td>\n",
       "      <td>[[[105, 90, 80, 37, 27, 14, 3, 0, 7, 14, 38, 5...</td>\n",
       "      <td>6485643624448000</td>\n",
       "      <td>True</td>\n",
       "      <td>2017-03-03 06:07:03.300680</td>\n",
       "      <td>face</td>\n",
       "    </tr>\n",
       "    <tr>\n",
       "      <th>8</th>\n",
       "      <td>RU</td>\n",
       "      <td>[[[0, 10, 45, 118, 139, 159, 205, 221, 226, 22...</td>\n",
       "      <td>4545746600722432</td>\n",
       "      <td>True</td>\n",
       "      <td>2017-03-27 02:34:59.591150</td>\n",
       "      <td>crocodile</td>\n",
       "    </tr>\n",
       "    <tr>\n",
       "      <th>9</th>\n",
       "      <td>US</td>\n",
       "      <td>[[[78, 71, 26, 0, 84], [12, 11, 22, 23, 32]], ...</td>\n",
       "      <td>5578314905288704</td>\n",
       "      <td>True</td>\n",
       "      <td>2017-03-09 02:41:27.457940</td>\n",
       "      <td>crocodile</td>\n",
       "    </tr>\n",
       "  </tbody>\n",
       "</table>\n",
       "</div>"
      ],
      "text/plain": [
       "  countrycode                                            drawing  \\\n",
       "0          TW  [[[97, 79, 44, 30, 23, 21, 25, 34, 53, 78, 109...   \n",
       "1          BR  [[[16, 4, 0, 15, 30, 56, 63, 103, 153, 199, 21...   \n",
       "2          BG  [[[57, 97, 128, 151, 159], [0, 43, 86, 136, 17...   \n",
       "3          CA  [[[28, 7, 1, 2, 15], [1, 40, 66, 95, 127]], [[...   \n",
       "4          CZ  [[[67, 69, 74, 94, 105, 116, 119, 115, 120, 13...   \n",
       "5          CH  [[[99, 84, 80], [3, 25, 56]], [[93, 103, 116, ...   \n",
       "6          CH  [[[59, 44, 28, 17, 8, 0, 0, 13, 32, 49, 85, 11...   \n",
       "7          US  [[[105, 90, 80, 37, 27, 14, 3, 0, 7, 14, 38, 5...   \n",
       "8          RU  [[[0, 10, 45, 118, 139, 159, 205, 221, 226, 22...   \n",
       "9          US  [[[78, 71, 26, 0, 84], [12, 11, 22, 23, 32]], ...   \n",
       "\n",
       "             key_id recognized                   timestamp       word  \n",
       "0  4952882308710400       True  2017-01-29 13:23:51.786560      mouse  \n",
       "1  5464784088596480       True  2017-03-06 19:17:22.518130      mouse  \n",
       "2  5490708884488192       True  2017-01-18 11:51:51.193520       knee  \n",
       "3  5987975680753664       True  2017-03-26 17:46:08.742390       knee  \n",
       "4  4599994839465984       True  2017-03-05 10:52:22.314850    octopus  \n",
       "5  6746256573464576       True  2017-01-23 21:23:00.117470    octopus  \n",
       "6  5152530285723648       True  2017-03-19 15:52:39.229000       face  \n",
       "7  6485643624448000       True  2017-03-03 06:07:03.300680       face  \n",
       "8  4545746600722432       True  2017-03-27 02:34:59.591150  crocodile  \n",
       "9  5578314905288704       True  2017-03-09 02:41:27.457940  crocodile  "
      ]
     },
     "execution_count": 2,
     "metadata": {},
     "output_type": "execute_result"
    }
   ],
   "source": [
    "from random import shuffle\n",
    "fnames = glob('input/train_simplified/*.csv')\n",
    "shuffle(fnames)\n",
    "fnames = fnames[0:5]\n",
    "cnames = ['countrycode', 'drawing', 'key_id', 'recognized', 'timestamp', 'word']\n",
    "drawlist = []\n",
    "for f in fnames[0:10]:\n",
    "    first = pd.read_csv(f, nrows=10) # make sure we get a recognized drawing\n",
    "    first = first[first.recognized==True].head(2)\n",
    "    drawlist.append(first)\n",
    "draw_df = pd.DataFrame(np.concatenate(drawlist), columns=cnames)\n",
    "draw_df"
   ]
  },
  {
   "cell_type": "code",
   "execution_count": 3,
   "metadata": {},
   "outputs": [
    {
     "data": {
      "text/plain": [
       "[[[[16, 4, 0, 15, 30, 56, 63, 103, 153, 199, 218, 234, 250, 255, 255, 243],\n",
       "   [93, 74, 33, 4, 0, 10, 75, 68, 68, 76, 16, 21, 31, 49, 72, 91]],\n",
       "  [[243, 243], [91, 91]]],\n",
       " [[[28, 7, 1, 2, 15], [1, 40, 66, 95, 127]],\n",
       "  [[140, 133, 103, 100, 105], [0, 5, 72, 114, 139]],\n",
       "  [[23, 25, 29, 44, 110, 145], [138, 224, 232, 238, 239, 255]],\n",
       "  [[115, 132, 149, 180], [148, 188, 217, 233]]],\n",
       " [[[99, 84, 80], [3, 25, 56]],\n",
       "  [[93, 103, 116, 123, 128, 129, 120], [9, 3, 0, 10, 22, 41, 65]],\n",
       "  [[81, 130], [58, 60]],\n",
       "  [[121, 157], [61, 104]],\n",
       "  [[108, 105, 95, 88], [57, 85, 114, 123]],\n",
       "  [[79, 66, 26, 16, 0], [56, 77, 128, 137, 146]],\n",
       "  [[84, 37, 23, 15, 12], [59, 155, 177, 182, 180]],\n",
       "  [[117, 111, 111, 121, 131, 144, 159, 172, 184],\n",
       "   [62, 77, 98, 132, 149, 163, 170, 169, 157]],\n",
       "  [[128, 146, 191, 216, 234, 249, 255], [71, 96, 124, 133, 135, 132, 126]],\n",
       "  [[103, 102, 85, 73, 64], [67, 87, 158, 182, 190]]],\n",
       " [[[105,\n",
       "    90,\n",
       "    80,\n",
       "    37,\n",
       "    27,\n",
       "    14,\n",
       "    3,\n",
       "    0,\n",
       "    7,\n",
       "    14,\n",
       "    38,\n",
       "    57,\n",
       "    75,\n",
       "    91,\n",
       "    127,\n",
       "    179,\n",
       "    208,\n",
       "    222,\n",
       "    231,\n",
       "    231,\n",
       "    213,\n",
       "    191,\n",
       "    150,\n",
       "    98,\n",
       "    64,\n",
       "    63],\n",
       "   [255,\n",
       "    246,\n",
       "    236,\n",
       "    175,\n",
       "    151,\n",
       "    129,\n",
       "    104,\n",
       "    79,\n",
       "    48,\n",
       "    32,\n",
       "    11,\n",
       "    2,\n",
       "    0,\n",
       "    1,\n",
       "    12,\n",
       "    45,\n",
       "    92,\n",
       "    131,\n",
       "    144,\n",
       "    166,\n",
       "    204,\n",
       "    216,\n",
       "    218,\n",
       "    216,\n",
       "    207,\n",
       "    204]],\n",
       "  [[51, 59], [50, 77]],\n",
       "  [[85, 103], [46, 95]],\n",
       "  [[83, 106, 130, 160, 161, 154, 146, 136, 131, 128],\n",
       "   [128, 122, 120, 114, 160, 166, 165, 155, 141, 120]]],\n",
       " [[[78, 71, 26, 0, 84], [12, 11, 22, 23, 32]],\n",
       "  [[72, 182, 222, 251, 234, 225, 255, 231, 154, 77],\n",
       "   [15, 11, 1, 1, 21, 26, 38, 45, 46, 29]],\n",
       "  [[51, 51], [30, 52]],\n",
       "  [[54, 54, 58, 65, 53, 50, 49, 64, 57], [53, 50, 48, 50, 57, 57, 52, 49, 53]],\n",
       "  [[90, 89, 102, 102, 93, 92, 96, 101, 98],\n",
       "   [34, 52, 51, 54, 53, 51, 48, 47, 50]],\n",
       "  [[202, 202, 207, 213, 210, 202, 201, 206, 213],\n",
       "   [41, 62, 57, 60, 65, 63, 59, 57, 60]],\n",
       "  [[227, 227], [44, 57]]]]"
      ]
     },
     "execution_count": 3,
     "metadata": {},
     "output_type": "execute_result"
    }
   ],
   "source": [
    "evens = range(0,24,2)\n",
    "odds = range(1,23, 2)\n",
    "df1 = draw_df[draw_df.index.isin(evens)]\n",
    "df2 = draw_df[draw_df.index.isin(odds)]\n",
    "\n",
    "example1s = [ast.literal_eval(pts) for pts in df1.drawing.values]\n",
    "example2s = [ast.literal_eval(pts) for pts in df2.drawing.values]\n",
    "\n",
    "example1s\n",
    "example2s"
   ]
  },
  {
   "cell_type": "code",
   "execution_count": 4,
   "metadata": {},
   "outputs": [
    {
     "name": "stderr",
     "output_type": "stream",
     "text": [
      "C:\\Users\\Abir Hassan\\Anaconda3\\lib\\site-packages\\matplotlib\\figure.py:98: MatplotlibDeprecationWarning: \n",
      "Adding an axes using the same arguments as a previous axes currently reuses the earlier instance.  In a future version, a new instance will always be created and returned.  Meanwhile, this warning can be suppressed, and the future behavior ensured, by passing a unique label to each axes instance.\n",
      "  \"Adding an axes using the same arguments as a previous axes \"\n"
     ]
    },
    {
     "data": {
      "image/png": "[encoded data removed]",
      "text/plain": [
       "<Figure size 432x216 with 2 Axes>"
      ]
     },
     "metadata": {
      "needs_background": "light"
     },
     "output_type": "display_data"
    },
    {
     "data": {
      "image/png": "[encoded data removed]",
      "text/plain": [
       "<Figure size 432x216 with 2 Axes>"
      ]
     },
     "metadata": {
      "needs_background": "light"
     },
     "output_type": "display_data"
    },
    {
     "data": {
      "image/png": "[encoded data removed]",
      "text/plain": [
       "<Figure size 432x216 with 2 Axes>"
      ]
     },
     "metadata": {
      "needs_background": "light"
     },
     "output_type": "display_data"
    },
    {
     "data": {
      "image/png": "[encoded data removed]",
      "text/plain": [
       "<Figure size 432x216 with 2 Axes>"
      ]
     },
     "metadata": {
      "needs_background": "light"
     },
     "output_type": "display_data"
    },
    {
     "data": {
      "image/png": "[encoded data removed]",
      "text/plain": [
       "<Figure size 432x216 with 2 Axes>"
      ]
     },
     "metadata": {
      "needs_background": "light"
     },
     "output_type": "display_data"
    }
   ],
   "source": [
    "labels = df2.word.tolist()\n",
    "for i, example in enumerate(example1s):\n",
    "    plt.figure(figsize=(6,3))\n",
    "    for x,y in example:\n",
    "        plt.subplot(1,2,1)\n",
    "        plt.plot(x, y, marker='.')\n",
    "        plt.axis('off')\n",
    "    plt.gca().invert_yaxis()\n",
    "    for x,y, in example2s[i]:\n",
    "        plt.subplot(1,2,2)\n",
    "        plt.plot(x, y, marker='.')\n",
    "        plt.axis('off')\n",
    "        label = labels[i]\n",
    "        plt.title(label, fontsize=10)\n",
    "    plt.gca().invert_yaxis()\n",
    "    plt.show()"
   ]
  },
  {
   "cell_type": "code",
   "execution_count": 5,
   "metadata": {},
   "outputs": [
    {
     "data": {
      "text/plain": [
       "5"
      ]
     },
     "execution_count": 5,
     "metadata": {},
     "output_type": "execute_result"
    }
   ],
   "source": [
    "#%% set global vars and params\n",
    "class_files = fnames\n",
    "class_dict = {x[:-4].replace(\" \", \"_\"):i for i, x in enumerate(class_files)}\n",
    "\n",
    "class_fraction = 1                     ## \n",
    "imheight, imwidth = 32, 32  \n",
    "ims_per_class = 2000 \n",
    "\n",
    "num_classes = int(len(class_files)*class_fraction)\n",
    "num_classes "
   ]
  },
  {
   "cell_type": "code",
   "execution_count": 6,
   "metadata": {},
   "outputs": [],
   "source": [
    "# faster conversion function\n",
    "def draw_it(strokes):\n",
    "    image = Image.new(\"P\", (256,256), color=255)\n",
    "    image_draw = ImageDraw.Draw(image)\n",
    "    for stroke in ast.literal_eval(strokes):\n",
    "        for i in range(len(stroke[0])-1):\n",
    "            image_draw.line([stroke[0][i], \n",
    "                             stroke[1][i],\n",
    "                             stroke[0][i+1], \n",
    "                             stroke[1][i+1]],\n",
    "                            fill=0, width=5)\n",
    "    image = image.resize((imheight, imwidth))\n",
    "    return np.array(image)/255.\n",
    "\n",
    "#%% get train arrays\n",
    "train_grand = []\n",
    "class_paths = fnames\n",
    "for i,c in enumerate(class_paths[0: num_classes]):\n",
    "    train = pd.read_csv(c, usecols=['drawing', 'recognized'], nrows=ims_per_class*5//4)\n",
    "    train = train[train.recognized == True].head(ims_per_class)\n",
    "    imagebag = bag.from_sequence(train.drawing.values).map(draw_it) \n",
    "    trainarray = np.array(imagebag.compute())  # PARALLELIZE\n",
    "    trainarray = np.reshape(trainarray, (ims_per_class, -1))    \n",
    "    labelarray = np.full((train.shape[0], 1), i)\n",
    "    trainarray = np.concatenate((labelarray, trainarray), axis=1)\n",
    "    train_grand.append(trainarray)\n",
    "    \n",
    "train_grand = np.array([train_grand.pop() for i in np.arange(num_classes)]) #less memory than np.concatenate\n",
    "train_grand = train_grand.reshape((-1, (imheight*imwidth+1)))\n",
    "\n",
    "del trainarray\n",
    "del train"
   ]
  },
  {
   "cell_type": "code",
   "execution_count": 7,
   "metadata": {},
   "outputs": [
    {
     "data": {
      "text/plain": [
       "(10000, 1025)"
      ]
     },
     "execution_count": 7,
     "metadata": {},
     "output_type": "execute_result"
    }
   ],
   "source": [
    "train_grand.shape"
   ]
  },
  {
   "cell_type": "code",
   "execution_count": 8,
   "metadata": {},
   "outputs": [
    {
     "name": "stdout",
     "output_type": "stream",
     "text": [
      "(9000, 5) \n",
      " (9000, 32, 32, 1) \n",
      " (1000, 5) \n",
      " (1000, 32, 32, 1)\n"
     ]
    }
   ],
   "source": [
    "# memory-friendly alternative to train_test_split?\n",
    "valfrac = 0.1\n",
    "cutpt = int(valfrac * train_grand.shape[0])\n",
    "\n",
    "np.random.shuffle(train_grand)\n",
    "y_train, X_train = train_grand[cutpt: , 0], train_grand[cutpt: , 1:]\n",
    "y_val, X_val = train_grand[0:cutpt, 0], train_grand[0:cutpt, 1:] #validation set is recognized==True\n",
    "\n",
    "del train_grand\n",
    "\n",
    "y_train = keras.utils.to_categorical(y_train, num_classes)\n",
    "X_train = X_train.reshape(X_train.shape[0], imheight, imwidth, 1)\n",
    "y_val = keras.utils.to_categorical(y_val, num_classes)\n",
    "X_val = X_val.reshape(X_val.shape[0], imheight, imwidth, 1)\n",
    "\n",
    "print(y_train.shape, \"\\n\",\n",
    "      X_train.shape, \"\\n\",\n",
    "      y_val.shape, \"\\n\",\n",
    "      X_val.shape)\n"
   ]
  },
  {
   "cell_type": "code",
   "execution_count": 9,
   "metadata": {},
   "outputs": [
    {
     "name": "stdout",
     "output_type": "stream",
     "text": [
      "_________________________________________________________________\n",
      "Layer (type)                 Output Shape              Param #   \n",
      "=================================================================\n",
      "conv2d_1 (Conv2D)            (None, 32, 32, 32)        320       \n",
      "_________________________________________________________________\n",
      "max_pooling2d_1 (MaxPooling2 (None, 16, 16, 32)        0         \n",
      "_________________________________________________________________\n",
      "conv2d_2 (Conv2D)            (None, 16, 16, 64)        18496     \n",
      "_________________________________________________________________\n",
      "max_pooling2d_2 (MaxPooling2 (None, 8, 8, 64)          0         \n",
      "_________________________________________________________________\n",
      "dropout_1 (Dropout)          (None, 8, 8, 64)          0         \n",
      "_________________________________________________________________\n",
      "flatten_1 (Flatten)          (None, 4096)              0         \n",
      "_________________________________________________________________\n",
      "dense_1 (Dense)              (None, 680)               2785960   \n",
      "_________________________________________________________________\n",
      "dropout_2 (Dropout)          (None, 680)               0         \n",
      "_________________________________________________________________\n",
      "dense_2 (Dense)              (None, 5)                 3405      \n",
      "=================================================================\n",
      "Total params: 2,808,181\n",
      "Trainable params: 2,808,181\n",
      "Non-trainable params: 0\n",
      "_________________________________________________________________\n"
     ]
    }
   ],
   "source": [
    "#input_shape = X_tr[0].shape\n",
    "\n",
    "# Modify model layers to increase accuracy\n",
    "# ------------------------------------------------\n",
    "# Model 1\n",
    "# ------------------------------------------------\n",
    "\n",
    "model = Sequential()\n",
    "model.add(Conv2D(32, kernel_size=(3, 3), padding='same', activation='relu', input_shape=(imheight, imwidth, 1)))\n",
    "model.add(MaxPooling2D(pool_size=(2, 2)))\n",
    "model.add(Conv2D(64, kernel_size=(3, 3), padding='same', activation='relu'))\n",
    "model.add(MaxPooling2D(pool_size=(2, 2)))\n",
    "model.add(Dropout(0.2))\n",
    "model.add(Flatten())\n",
    "model.add(Dense(680, activation='relu'))\n",
    "model.add(Dropout(0.5))\n",
    "model.add(Dense(num_classes, activation='softmax'))\n",
    "model.summary()"
   ]
  },
  {
   "cell_type": "code",
   "execution_count": 10,
   "metadata": {},
   "outputs": [],
   "source": [
    "def top_3_accuracy(x,y): \n",
    "    t3 = top_k_categorical_accuracy(x,y, 3)\n",
    "    return t3\n",
    "\n",
    "class LossHistory(keras.callbacks.Callback):\n",
    "    def on_train_begin(self, logs={}):\n",
    "        self.loss = []\n",
    "        self.val_acc = []\n",
    "        self.acc = []\n",
    "        \n",
    "    def on_batch_end(self, batch, logs={}):\n",
    "        self.loss.append(logs.get('loss'))\n",
    "        \n",
    "    def on_epoch_end(self, epoch, logs):\n",
    "        self.val_acc.append(logs.get('val_acc'))\n",
    "        self.acc.append(logs.get('acc'))\n",
    "\n",
    "history_cb = LossHistory()\n",
    "callbacks = [history_cb]"
   ]
  },
  {
   "cell_type": "code",
   "execution_count": 11,
   "metadata": {},
   "outputs": [],
   "source": [
    "model.compile(loss='categorical_crossentropy',\n",
    "              optimizer='adam',\n",
    "              metrics=['accuracy', top_3_accuracy])"
   ]
  },
  {
   "cell_type": "code",
   "execution_count": 12,
   "metadata": {},
   "outputs": [
    {
     "name": "stdout",
     "output_type": "stream",
     "text": [
      "Train on 9000 samples, validate on 1000 samples\n",
      "Epoch 1/22\n",
      "9000/9000 [==============================] - 33s 4ms/step - loss: 0.6598 - acc: 0.7510 - top_3_accuracy: 0.9599 - val_loss: 0.3766 - val_acc: 0.8430 - val_top_3_accuracy: 0.9950\n",
      "Epoch 2/22\n",
      "9000/9000 [==============================] - 33s 4ms/step - loss: 0.3657 - acc: 0.8644 - top_3_accuracy: 0.9928 - val_loss: 0.3080 - val_acc: 0.8740 - val_top_3_accuracy: 0.9980\n",
      "Epoch 3/22\n",
      "9000/9000 [==============================] - 32s 4ms/step - loss: 0.2874 - acc: 0.8922 - top_3_accuracy: 0.9948 - val_loss: 0.2687 - val_acc: 0.9040 - val_top_3_accuracy: 0.9980\n",
      "Epoch 4/22\n",
      "9000/9000 [==============================] - 33s 4ms/step - loss: 0.2396 - acc: 0.9119 - top_3_accuracy: 0.9966 - val_loss: 0.2694 - val_acc: 0.9050 - val_top_3_accuracy: 0.9970\n",
      "Epoch 5/22\n",
      "9000/9000 [==============================] - 33s 4ms/step - loss: 0.1930 - acc: 0.9309 - top_3_accuracy: 0.9976 - val_loss: 0.2580 - val_acc: 0.8990 - val_top_3_accuracy: 0.9970\n",
      "Epoch 6/22\n",
      "9000/9000 [==============================] - 33s 4ms/step - loss: 0.1516 - acc: 0.9468 - top_3_accuracy: 0.9982 - val_loss: 0.2427 - val_acc: 0.9170 - val_top_3_accuracy: 0.9970\n",
      "Epoch 7/22\n",
      "9000/9000 [==============================] - 33s 4ms/step - loss: 0.1298 - acc: 0.9526 - top_3_accuracy: 0.9991 - val_loss: 0.2451 - val_acc: 0.9260 - val_top_3_accuracy: 0.9950\n",
      "Epoch 8/22\n",
      "9000/9000 [==============================] - 33s 4ms/step - loss: 0.1052 - acc: 0.9633 - top_3_accuracy: 0.9988 - val_loss: 0.2207 - val_acc: 0.9300 - val_top_3_accuracy: 0.9950\n",
      "Epoch 9/22\n",
      "9000/9000 [==============================] - 33s 4ms/step - loss: 0.0843 - acc: 0.9706 - top_3_accuracy: 0.9997 - val_loss: 0.2147 - val_acc: 0.9390 - val_top_3_accuracy: 0.9990\n",
      "Epoch 10/22\n",
      "9000/9000 [==============================] - 33s 4ms/step - loss: 0.0662 - acc: 0.9770 - top_3_accuracy: 0.9994 - val_loss: 0.2360 - val_acc: 0.9280 - val_top_3_accuracy: 0.9970\n",
      "Epoch 11/22\n",
      "9000/9000 [==============================] - 33s 4ms/step - loss: 0.0575 - acc: 0.9799 - top_3_accuracy: 0.9998 - val_loss: 0.2959 - val_acc: 0.9240 - val_top_3_accuracy: 0.9980\n",
      "Epoch 12/22\n",
      "9000/9000 [==============================] - 34s 4ms/step - loss: 0.0557 - acc: 0.9800 - top_3_accuracy: 0.9999 - val_loss: 0.2311 - val_acc: 0.9380 - val_top_3_accuracy: 0.9980\n",
      "Epoch 13/22\n",
      "9000/9000 [==============================] - 33s 4ms/step - loss: 0.0483 - acc: 0.9843 - top_3_accuracy: 1.0000 - val_loss: 0.2729 - val_acc: 0.9290 - val_top_3_accuracy: 0.9970\n",
      "Epoch 14/22\n",
      "9000/9000 [==============================] - 33s 4ms/step - loss: 0.0430 - acc: 0.9854 - top_3_accuracy: 1.0000 - val_loss: 0.2608 - val_acc: 0.9280 - val_top_3_accuracy: 0.9960\n",
      "Epoch 15/22\n",
      "9000/9000 [==============================] - 33s 4ms/step - loss: 0.0294 - acc: 0.9901 - top_3_accuracy: 1.0000 - val_loss: 0.3268 - val_acc: 0.9270 - val_top_3_accuracy: 0.9970\n",
      "Epoch 16/22\n",
      "9000/9000 [==============================] - 33s 4ms/step - loss: 0.0282 - acc: 0.9906 - top_3_accuracy: 0.9999 - val_loss: 0.2861 - val_acc: 0.9370 - val_top_3_accuracy: 0.9970\n",
      "Epoch 17/22\n",
      "9000/9000 [==============================] - 34s 4ms/step - loss: 0.0294 - acc: 0.9894 - top_3_accuracy: 1.0000 - val_loss: 0.4169 - val_acc: 0.8990 - val_top_3_accuracy: 0.9950\n",
      "Epoch 18/22\n",
      "9000/9000 [==============================] - 33s 4ms/step - loss: 0.0338 - acc: 0.9869 - top_3_accuracy: 1.0000 - val_loss: 0.3148 - val_acc: 0.9290 - val_top_3_accuracy: 0.9970\n",
      "Epoch 19/22\n",
      "9000/9000 [==============================] - 33s 4ms/step - loss: 0.0285 - acc: 0.9909 - top_3_accuracy: 0.9999 - val_loss: 0.3371 - val_acc: 0.9260 - val_top_3_accuracy: 0.9970\n",
      "Epoch 20/22\n",
      "9000/9000 [==============================] - 31s 3ms/step - loss: 0.0300 - acc: 0.9911 - top_3_accuracy: 1.0000 - val_loss: 0.3296 - val_acc: 0.9240 - val_top_3_accuracy: 0.9980\n",
      "Epoch 21/22\n",
      "9000/9000 [==============================] - 32s 4ms/step - loss: 0.0247 - acc: 0.9917 - top_3_accuracy: 1.0000 - val_loss: 0.3163 - val_acc: 0.9300 - val_top_3_accuracy: 0.9980\n",
      "Epoch 22/22\n",
      "9000/9000 [==============================] - 32s 4ms/step - loss: 0.0200 - acc: 0.9930 - top_3_accuracy: 1.0000 - val_loss: 0.3450 - val_acc: 0.9290 - val_top_3_accuracy: 0.9970\n"
     ]
    },
    {
     "data": {
      "text/plain": [
       "<keras.callbacks.History at 0x21e6d657eb8>"
      ]
     },
     "execution_count": 12,
     "metadata": {},
     "output_type": "execute_result"
    }
   ],
   "source": [
    "tf.global_variables_initializer()\n",
    "model.fit(x=X_train, y=y_train,\n",
    "          batch_size = 32,\n",
    "          epochs = 22,\n",
    "          validation_data = (X_val, y_val),\n",
    "          callbacks = callbacks)"
   ]
  },
  {
   "cell_type": "code",
   "execution_count": 13,
   "metadata": {},
   "outputs": [],
   "source": [
    "model.save('test1')"
   ]
  },
  {
   "cell_type": "code",
   "execution_count": 14,
   "metadata": {},
   "outputs": [],
   "source": [
    "keras.metrics.top_3_accuracy = top_3_accuracy\n",
    "model = keras.models.load_model('test1', custom_objects= {'metrics':['accuracy', top_3_accuracy]})"
   ]
  },
  {
   "cell_type": "code",
   "execution_count": 16,
   "metadata": {},
   "outputs": [
    {
     "name": "stdout",
     "output_type": "stream",
     "text": [
      "22\n",
      "22\n"
     ]
    }
   ],
   "source": [
    "mode21Hist = history_cb\n",
    "print(len(mode21Hist.acc))\n",
    "print(len(mode21Hist.val_acc))\n"
   ]
  },
  {
   "cell_type": "code",
   "execution_count": 18,
   "metadata": {},
   "outputs": [
    {
     "data": {
      "text/plain": [
       "Text(0, 0.5, 'Accuracy')"
      ]
     },
     "execution_count": 18,
     "metadata": {},
     "output_type": "execute_result"
    },
    {
     "data": {
      "image/png": "[encoded data removed]",
      "text/plain": [
       "<Figure size 432x288 with 1 Axes>"
      ]
     },
     "metadata": {
      "needs_background": "light"
     },
     "output_type": "display_data"
    }
   ],
   "source": [
    "xVal = np.arange(1, 23, 1)\n",
    "plt.plot(xVal, mode21Hist.acc)\n",
    "plt.plot(xVal, mode21Hist.val_acc)\n",
    "plt.title('Model 2 (with Batch Normalization)')\n",
    "plt.legend((\"Training\", \"Testing\"), loc=\"best\")\n",
    "plt.xlabel('Epoch')\n",
    "plt.ylabel('Accuracy')"
   ]
  },
  {
   "cell_type": "code",
   "execution_count": 23,
   "metadata": {},
   "outputs": [
    {
     "name": "stdout",
     "output_type": "stream",
     "text": [
      "_________________________________________________________________\n",
      "Layer (type)                 Output Shape              Param #   \n",
      "=================================================================\n",
      "conv2d_11 (Conv2D)           (None, 30, 30, 32)        320       \n",
      "_________________________________________________________________\n",
      "batch_normalization_10 (Batc (None, 30, 30, 32)        128       \n",
      "_________________________________________________________________\n",
      "conv2d_12 (Conv2D)           (None, 28, 28, 64)        18496     \n",
      "_________________________________________________________________\n",
      "batch_normalization_11 (Batc (None, 28, 28, 64)        256       \n",
      "_________________________________________________________________\n",
      "max_pooling2d_9 (MaxPooling2 (None, 28, 28, 64)        0         \n",
      "_________________________________________________________________\n",
      "conv2d_13 (Conv2D)           (None, 26, 26, 64)        36928     \n",
      "_________________________________________________________________\n",
      "batch_normalization_12 (Batc (None, 26, 26, 64)        256       \n",
      "_________________________________________________________________\n",
      "conv2d_14 (Conv2D)           (None, 23, 23, 64)        65600     \n",
      "_________________________________________________________________\n",
      "batch_normalization_13 (Batc (None, 23, 23, 64)        256       \n",
      "_________________________________________________________________\n",
      "max_pooling2d_10 (MaxPooling (None, 11, 11, 64)        0         \n",
      "_________________________________________________________________\n",
      "flatten_3 (Flatten)          (None, 7744)              0         \n",
      "_________________________________________________________________\n",
      "dense_7 (Dense)              (None, 2000)              15490000  \n",
      "_________________________________________________________________\n",
      "dense_8 (Dense)              (None, 1000)              2001000   \n",
      "_________________________________________________________________\n",
      "batch_normalization_14 (Batc (None, 1000)              4000      \n",
      "_________________________________________________________________\n",
      "dense_9 (Dense)              (None, 500)               500500    \n",
      "_________________________________________________________________\n",
      "dense_10 (Dense)             (None, 5)                 2505      \n",
      "=================================================================\n",
      "Total params: 18,120,245\n",
      "Trainable params: 18,117,797\n",
      "Non-trainable params: 2,448\n",
      "_________________________________________________________________\n"
     ]
    }
   ],
   "source": [
    "model = Sequential()\n",
    "\n",
    "model.add(Conv2D(32, kernel_size=(3, 3), strides=(1, 1), activation='relu', input_shape=(imheight, imwidth, 1)))\n",
    "model.add(BatchNormalization())\n",
    "model.add(Conv2D(64, (3, 3), activation='relu'))\n",
    "model.add(BatchNormalization())\n",
    "model.add(MaxPooling2D(pool_size=(1, 1)))\n",
    "model.add(Conv2D(64, (3, 3), activation='relu'))\n",
    "model.add(BatchNormalization())\n",
    "model.add(Conv2D(64, (4, 4), activation='relu'))\n",
    "model.add(BatchNormalization())\n",
    "model.add(MaxPooling2D(pool_size=(2, 2)))\n",
    "model.add(Flatten())\n",
    "model.add(Dense(2000, activation='relu'))\n",
    "model.add(Dense(1000, activation='relu'))\n",
    "model.add(BatchNormalization())\n",
    "model.add(Dense(500, activation='relu'))\n",
    "model.add(Dense(num_classes, activation='softmax'))\n",
    "model.summary()"
   ]
  },
  {
   "cell_type": "code",
   "execution_count": null,
   "metadata": {},
   "outputs": [
    {
     "name": "stdout",
     "output_type": "stream",
     "text": [
      "Train on 9000 samples, validate on 1000 samples\n",
      "Epoch 1/22\n",
      "9000/9000 [==============================] - 280s 31ms/step - loss: 0.6454 - acc: 0.7647 - top_3_accuracy: 0.9774 - val_loss: 1.3498 - val_acc: 0.7120 - val_top_3_accuracy: 0.9520\n",
      "Epoch 2/22\n",
      "9000/9000 [==============================] - 275s 31ms/step - loss: 0.3855 - acc: 0.8651 - top_3_accuracy: 0.9921 - val_loss: 5.6114 - val_acc: 0.3770 - val_top_3_accuracy: 0.6880\n",
      "Epoch 3/22\n",
      "9000/9000 [==============================] - 280s 31ms/step - loss: 0.2786 - acc: 0.9021 - top_3_accuracy: 0.9944 - val_loss: 0.4355 - val_acc: 0.8620 - val_top_3_accuracy: 0.9930\n",
      "Epoch 4/22\n",
      " 448/9000 [>.............................] - ETA: 4:22 - loss: 0.2284 - acc: 0.9330 - top_3_accuracy: 1.0000"
     ]
    }
   ],
   "source": [
    "model.compile(loss='categorical_crossentropy',\n",
    "              optimizer='adam',\n",
    "              metrics=['accuracy', top_3_accuracy])\n",
    "tf.global_variables_initializer()\n",
    "model.fit(x=X_train, y=y_train,\n",
    "          batch_size = 32,\n",
    "          epochs = 22,\n",
    "          validation_data = (X_val, y_val),\n",
    "          callbacks = callbacks)"
   ]
  },
  {
   "cell_type": "code",
   "execution_count": null,
   "metadata": {},
   "outputs": [],
   "source": [
    "model.save('test2')\n",
    "keras.metrics.top_3_accuracy = top_3_accuracy\n",
    "model = keras.models.load_model('test2', custom_objects= {'metrics':['accuracy', top_3_accuracy]})\n"
   ]
  }
 ],
 "metadata": {
  "kernelspec": {
   "display_name": "Python 3",
   "language": "python",
   "name": "python3"
  },
  "language_info": {
   "codemirror_mode": {
    "name": "ipython",
    "version": 3
   },
   "file_extension": ".py",
   "mimetype": "text/x-python",
   "name": "python",
   "nbconvert_exporter": "python",
   "pygments_lexer": "ipython3",
   "version": "3.6.7"
  }
 },
 "nbformat": 4,
 "nbformat_minor": 2
}
